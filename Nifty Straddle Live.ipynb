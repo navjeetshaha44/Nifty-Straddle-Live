{
 "cells": [
  {
   "cell_type": "code",
   "execution_count": 4,
   "metadata": {},
   "outputs": [
    {
     "name": "stdout",
     "output_type": "stream",
     "text": [
      "yymd:21610\n",
      "straddle:176.1,nifty:15735\n",
      "straddle:176.65,nifty:15735\n",
      "straddle:176.4,nifty:15735\n",
      "straddle:176.45,nifty:15733\n",
      "straddle:176.55,nifty:15734.85\n",
      "straddle:176.35,nifty:15732.35\n",
      "straddle:176.05,nifty:15733.1\n",
      "straddle:176.35,nifty:15733\n",
      "straddle:176.15,nifty:15733.5\n",
      "straddle:175.9,nifty:15733.5\n",
      "straddle:175.95,nifty:15736\n",
      "straddle:176.0,nifty:15735.2\n",
      "straddle:176.0,nifty:15734.8\n",
      "straddle:176.1,nifty:15733.5\n",
      "straddle:176.0,nifty:15733.25\n"
     ]
    }
   ],
   "source": [
    "#NIFTY straddle live:\n",
    "#This algorithm works on only Zerodha platforms so you need to have a Zerodha API access \n",
    "\n",
    "import time\n",
    "from datetime import timedelta\n",
    "from kiteconnect import KiteConnect\n",
    "\n",
    "\n",
    "\n",
    "def quote(exchange,symbol,buy_sell):\n",
    "    return kite.quote(exchange+':'+symbol)[exchange+':'+symbol]['depth'][buy_sell][0]['price']\n",
    "\n",
    "def ltp(exchange,symbol):\n",
    "    return kite.ltp(exchange+':'+symbol)[exchange+':'+symbol]['last_price']\n",
    "\n",
    "\n",
    "\n",
    "today=datetime.datetime(2021,6,7,9,51)\n",
    "\n",
    "nifty_straddle=[]\n",
    "nifty_ltp=[]\n",
    "expiry=input('yymd:')\n",
    "\n",
    "while datetime.datetime.now()<today:\n",
    "    atm=round(int(ltp('NFO','NIFTY21JUNFUT')),-2)\n",
    "    nifty_cmp=ltp('NFO','NIFTY21JUNFUT')\n",
    "    cw_bid=quote('NFO','NIFTY'+expiry+str(atm)+'CE','buy')\n",
    "    cw_ask=quote('NFO','NIFTY'+expiry+str(atm)+'CE','sell')\n",
    "    pw_bid=quote('NFO','NIFTY'+expiry+str(atm)+'PE','buy')\n",
    "    pw_ask=quote('NFO','NIFTY'+expiry+str(atm)+'PE','sell')\n",
    "    \n",
    "    #straddle = ATM call + ATM put\n",
    "    \n",
    "    long_straddle=round(cw_ask+pw_ask,2)\n",
    "    short_straddle=round(cw_bid+pw_bid,2)\n",
    "    \n",
    "    nifty_straddle.append(long_straddle)\n",
    "    nifty_ltp.append(nifty_cmp)\n",
    "    \n",
    "    print(f'straddle:{long_straddle},nifty:{nifty_cmp}')\n",
    "    time.sleep(5)\n",
    "    \n",
    "    \n"
   ]
  },
  {
   "cell_type": "code",
   "execution_count": null,
   "metadata": {},
   "outputs": [],
   "source": []
  }
 ],
 "metadata": {
  "kernelspec": {
   "display_name": "Python 3",
   "language": "python",
   "name": "python3"
  },
  "language_info": {
   "codemirror_mode": {
    "name": "ipython",
    "version": 3
   },
   "file_extension": ".py",
   "mimetype": "text/x-python",
   "name": "python",
   "nbconvert_exporter": "python",
   "pygments_lexer": "ipython3",
   "version": "3.7.6"
  }
 },
 "nbformat": 4,
 "nbformat_minor": 4
}
